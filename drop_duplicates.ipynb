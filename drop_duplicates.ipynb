{
 "cells": [
  {
   "cell_type": "code",
   "execution_count": 1,
   "id": "f8a3308e-a8fb-4e83-84ce-785fcdd1fb5a",
   "metadata": {},
   "outputs": [],
   "source": [
    "import os\n",
    "import pandas as pd\n",
    "import geopandas as gpd\n",
    "import multiprocessing\n",
    "from pathlib import Path"
   ]
  },
  {
   "cell_type": "code",
   "execution_count": 2,
   "id": "bc74231e-ee27-4633-a726-169985e66882",
   "metadata": {},
   "outputs": [],
   "source": [
    "tree_dir = Path(\"./data/merged\")"
   ]
  },
  {
   "cell_type": "code",
   "execution_count": 3,
   "id": "62587dac-a36b-4e55-9563-6208beea3085",
   "metadata": {},
   "outputs": [],
   "source": [
    "def drop_redundant_rows(fn, tree_dir = Path(\"./data/merged\"), out_dir = Path(\"./data/treemap/merged/\")):\n",
    "\n",
    "    trees = gpd.read_file(tree_dir/fn)\n",
    "    try:\n",
    "        trees = trees.drop(columns = \"value\")\n",
    "    except:\n",
    "        trees = trees.drop(columns = \"index\")\n",
    "        \n",
    "    trees = trees.drop_duplicates()\n",
    "    trees.to_file(out_dir/f\"{Path(fn).stem}.geojson\")\n",
    "\n",
    "with multiprocessing.Pool(8) as pool:\n",
    "    pool.map(drop_redundant_rows, os.listdir(tree_dir))"
   ]
  }
 ],
 "metadata": {
  "kernelspec": {
   "display_name": "Python 3 (ipykernel)",
   "language": "python",
   "name": "python3"
  },
  "language_info": {
   "codemirror_mode": {
    "name": "ipython",
    "version": 3
   },
   "file_extension": ".py",
   "mimetype": "text/x-python",
   "name": "python",
   "nbconvert_exporter": "python",
   "pygments_lexer": "ipython3",
   "version": "3.11.4"
  }
 },
 "nbformat": 4,
 "nbformat_minor": 5
}
